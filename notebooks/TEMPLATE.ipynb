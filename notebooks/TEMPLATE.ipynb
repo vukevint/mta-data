{
 "cells": [
  {
   "cell_type": "code",
   "execution_count": null,
   "id": "932d7c04-58d5-4988-ac69-d9b2421acf9b",
   "metadata": {
    "tags": []
   },
   "outputs": [],
   "source": [
    "# Run magic commands first\n",
    "\n",
    "%load_ext autoreload\n",
    "%autoreload 2\n",
    "%cd .."
   ]
  },
  {
   "cell_type": "code",
   "execution_count": null,
   "id": "25c00953-3090-4913-8e4d-4cdbe3a37aa5",
   "metadata": {},
   "outputs": [],
   "source": []
  }
 ],
 "metadata": {
  "kernelspec": {
   "display_name": "housing-nyc",
   "language": "python",
   "name": "housing-nyc"
  },
  "language_info": {
   "codemirror_mode": {
    "name": "ipython",
    "version": 3
   },
   "file_extension": ".py",
   "mimetype": "text/x-python",
   "name": "python",
   "nbconvert_exporter": "python",
   "pygments_lexer": "ipython3",
   "version": "3.8.6"
  }
 },
 "nbformat": 4,
 "nbformat_minor": 5
}
